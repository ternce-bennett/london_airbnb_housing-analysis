{
 "cells": [
  {
   "cell_type": "markdown",
   "metadata": {},
   "source": [
    "# 📊 London Airbnb vs Housing Affordability Analysis\n",
    "This project investigates how the number and pricing of Airbnb listings might relate to rent prices in London boroughs."
   ]
  },
  {
   "cell_type": "code",
   "execution_count": null,
   "metadata": {},
   "outputs": [],
   "source": [
    "# Import necessary libraries\n",
    "import pandas as pd\n",
    "import matplotlib.pyplot as plt\n",
    "import seaborn as sns\n",
    "\n",
    "# Load Airbnb listings data\n",
    "df = pd.read_csv(\"listings.csv\")\n",
    "\n",
    "# Display the first few rows\n",
    "df.head()"
   ]
  },
  {
   "cell_type": "code",
   "execution_count": null,
   "metadata": {},
   "outputs": [],
   "source": [
    "# Keep only relevant columns\n",
    "columns = ['neighbourhood_cleansed', 'price']\n",
    "df = df[columns]\n",
    "\n",
    "# Clean price column: remove currency symbols and convert to float\n",
    "df['price'] = df['price'].replace('[\\$,]', '', regex=True).astype(float)\n",
    "\n",
    "# Group by borough and calculate:\n",
    "# - number of listings\n",
    "# - average nightly price\n",
    "airbnb_summary = df.groupby('neighbourhood_cleansed').agg(\n",
    "    listings_count=('price', 'count'),\n",
    "    average_price=('price', 'mean')\n",
    ").reset_index()\n",
    "\n",
    "airbnb_summary.head()"
   ]
  },
  {
   "cell_type": "code",
   "execution_count": null,
   "metadata": {},
   "outputs": [],
   "source": [
    "# Add sample (mock) rent data\n",
    "# You can replace this later with real rent data by borough\n",
    "mock_rent_data = pd.DataFrame({\n",
    "    'neighbourhood_cleansed': airbnb_summary['neighbourhood_cleansed'],\n",
    "    'median_rent': [1400 + i * 10 for i in range(len(airbnb_summary))]  # example only\n",
    "})\n",
    "\n",
    "# Merge Airbnb data with mock rent data\n",
    "merged = airbnb_summary.merge(mock_rent_data, on='neighbourhood_cleansed')\n",
    "merged.head()"
   ]
  },
  {
   "cell_type": "code",
   "execution_count": null,
   "metadata": {},
   "outputs": [],
   "source": [
    "# Plot 1: Listings count vs Median Rent\n",
    "plt.figure(figsize=(10,6))\n",
    "sns.scatterplot(data=merged, x='listings_count', y='median_rent')\n",
    "plt.title('Airbnb Listings vs Median Rent in London Boroughs')\n",
    "plt.xlabel('Number of Airbnb Listings')\n",
    "plt.ylabel('Median Monthly Rent (£)')\n",
    "plt.grid(True)\n",
    "plt.tight_layout()\n",
    "plt.show()"
   ]
  },
  {
   "cell_type": "code",
   "execution_count": null,
   "metadata": {},
   "outputs": [],
   "source": [
    "# Plot 2: Average Airbnb Price vs Median Rent\n",
    "plt.figure(figsize=(10,6))\n",
    "sns.scatterplot(data=merged, x='average_price', y='median_rent')\n",
    "plt.title('Average Airbnb Price vs Median Rent in London Boroughs')\n",
    "plt.xlabel('Average Airbnb Nightly Price (£)')\n",
    "plt.ylabel('Median Monthly Rent (£)')\n",
    "plt.grid(True)\n",
    "plt.tight_layout()\n",
    "plt.show()"
   ]
  },
  {
   "cell_type": "code",
   "execution_count": null,
   "metadata": {},
   "outputs": [],
   "source": [
    "# Correlation analysis\n",
    "correlation_listings = merged['listings_count'].corr(merged['median_rent'])\n",
    "correlation_price = merged['average_price'].corr(merged['median_rent'])\n",
    "\n",
    "print(f\"Correlation between Airbnb listings and rent: {correlation_listings:.2f}\")\n",
    "print(f\"Correlation between Airbnb price and rent: {correlation_price:.2f}\")"
   ]
  }
 ],
 "metadata": {
  "kernelspec": {
   "display_name": "Python 3",
   "language": "python",
   "name": "python3"
  },
  "language_info": {
   "name": "python",
   "version": ""
  }
 },
 "nbformat": 4,
 "nbformat_minor": 2
}
 
